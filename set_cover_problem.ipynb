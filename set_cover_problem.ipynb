{
 "cells": [
  {
   "cell_type": "code",
   "execution_count": 1,
   "metadata": {},
   "outputs": [
    {
     "name": "stderr",
     "output_type": "stream",
     "text": [
      "c:\\Users\\andrea\\Desktop\\py_env\\Lib\\site-packages\\tqdm\\auto.py:21: TqdmWarning: IProgress not found. Please update jupyter and ipywidgets. See https://ipywidgets.readthedocs.io/en/stable/user_install.html\n",
      "  from .autonotebook import tqdm as notebook_tqdm\n"
     ]
    }
   ],
   "source": [
    "import numpy as np\n",
    "from itertools import accumulate\n",
    "from tqdm.auto import tqdm\n",
    "import matplotlib.pyplot as plt\n",
    "from icecream import ic"
   ]
  },
  {
   "cell_type": "code",
   "execution_count": 3,
   "metadata": {},
   "outputs": [],
   "source": [
    "UNIVERSE_SIZE = 10000\n",
    "NUM_SETS = 1000\n",
    "DENSITY = 0.2  \n",
    "rng = np.random.Generator(np.random.PCG64([UNIVERSE_SIZE, NUM_SETS, int(10_000 * DENSITY)]))"
   ]
  },
  {
   "cell_type": "code",
   "execution_count": 4,
   "metadata": {},
   "outputs": [],
   "source": [
    "# DON'T EDIT THESE LINES!\n",
    "\n",
    "SETS = np.random.random((NUM_SETS, UNIVERSE_SIZE)) < DENSITY\n",
    "for s in range(UNIVERSE_SIZE):\n",
    "    if not np.any(SETS[:, s]):\n",
    "        SETS[np.random.randint(NUM_SETS), s] = True\n",
    "COSTS = np.pow(SETS.sum(axis=1), 1.1)"
   ]
  },
  {
   "cell_type": "code",
   "execution_count": 7,
   "metadata": {},
   "outputs": [],
   "source": [
    "def valid(solution):\n",
    "    \"\"\"Controlla se la soluzione è valida (copre tutto l'universo).\"\"\"\n",
    "    return np.all(np.sum(SETS[solution], axis=0) > 0)\n",
    "\n",
    "def cost(solution):\n",
    "    \"\"\"Calcola il costo di una soluzione.\"\"\"    \n",
    "    return COSTS[solution].sum()"
   ]
  },
  {
   "cell_type": "code",
   "execution_count": 8,
   "metadata": {},
   "outputs": [],
   "source": [
    "def satisfied_count(solution):\n",
    "    \"\"\"Restituisce il numero di elementi nell'universo che sono coperti dai set selezionati.\"\"\"\n",
    "    covered_elements = np.sum(SETS[solution], axis=0) > 0\n",
    "    return np.sum(covered_elements)\n"
   ]
  },
  {
   "cell_type": "markdown",
   "metadata": {},
   "source": [
    "This function is used to count the number of elements covered by the current solution."
   ]
  },
  {
   "cell_type": "code",
   "execution_count": 9,
   "metadata": {},
   "outputs": [],
   "source": [
    "def weighted_mutation(solution, strength):\n",
    "    \"\"\"Effettua la mutazione sulla soluzione con probabilità basata sui costi.\"\"\"\n",
    "    inverted_costs = 1 / COSTS\n",
    "    probabilities = inverted_costs / inverted_costs.sum()\n",
    "    mask = rng.random(NUM_SETS) < strength * probabilities\n",
    "    if not np.any(mask):\n",
    "        selected_set = rng.choice(NUM_SETS, p=probabilities)\n",
    "        mask[selected_set] = True\n",
    "    new_solution = np.logical_xor(solution, mask)\n",
    "    return new_solution"
   ]
  },
  {
   "cell_type": "markdown",
   "metadata": {},
   "source": [
    "With this code we aim at tweak the solution depending the cost of the set: sets with lower cost will be tweaked with more probability."
   ]
  },
  {
   "cell_type": "code",
   "execution_count": 12,
   "metadata": {},
   "outputs": [],
   "source": [
    "def fitness(solution: np.ndarray):\n",
    "    \"\"\"Restituisce la fitness di una soluzione, bilanciando costo e copertura.\"\"\"    \n",
    "    coverage = satisfied_count(solution)\n",
    "    cost_value = -1 * cost(solution)\n",
    "    return (coverage, cost_value)"
   ]
  },
  {
   "cell_type": "code",
   "execution_count": 11,
   "metadata": {},
   "outputs": [
    {
     "name": "stdout",
     "output_type": "stream",
     "text": [
      "soluzione iniziale trovata con costo -4276253.407593962\n"
     ]
    },
    {
     "name": "stderr",
     "output_type": "stream",
     "text": [
      "100%|██████████| 184/184 [00:01<00:00, 119.61it/s]\n"
     ]
    },
    {
     "name": "stdout",
     "output_type": "stream",
     "text": [
      "ris finale -1843268.6837663846\n"
     ]
    },
    {
     "data": {
      "image/png": "[encoded data removed]",
      "text/plain": [
       "<Figure size 640x480 with 1 Axes>"
      ]
     },
     "metadata": {},
     "output_type": "display_data"
    }
   ],
   "source": [
    "# Punto di partenza:\n",
    "solution= rng.random(NUM_SETS)<1\n",
    "print(\"soluzione iniziale trovata con costo\", fitness(solution)[1])\n",
    "history = []\n",
    "\n",
    "buffer = []\n",
    "BUF_LENGTH = int(int(DENSITY*100 * np.log(UNIVERSE_SIZE)) / 7)\n",
    "solution_fitness = (0, -np.inf) \n",
    "\n",
    "step_size = 0.1\n",
    "\n",
    "for steps in tqdm(range(int(DENSITY*100 * np.log(UNIVERSE_SIZE)))):\n",
    "    if steps < int(DENSITY*100 * np.log(UNIVERSE_SIZE)) * 0.2:\n",
    "        new_solution = weighted_mutation(solution, strength=step_size * 4) \n",
    "    else:\n",
    "        new_solution = weighted_mutation(solution, strength=step_size)\n",
    "\n",
    "    new_fitness = fitness(new_solution)\n",
    "    \n",
    "    buffer.append(new_fitness > solution_fitness)\n",
    "    \n",
    "    # Se trovo una soluzione migliore, aggiorno\n",
    "    if new_fitness > solution_fitness:\n",
    "        solution_fitness = new_fitness\n",
    "        solution = new_solution\n",
    "\n",
    "    history.append(float(solution_fitness[1]))\n",
    "\n",
    "    if len(buffer) > BUF_LENGTH:\n",
    "        buffer.pop(0)\n",
    "\n",
    "    if np.sum(buffer) > 1:\n",
    "        step_size = step_size + 0.3*step_size\n",
    "    else:\n",
    "        step_size = step_size - 0.3*step_size\n",
    "\n",
    "print(\"ris finale\", fitness(solution)[1])\n",
    "plt.plot(range(0, len(history)), history, marker='o')  \n",
    "plt.title(\"Performance over iterations\")\n",
    "plt.xlabel(\"Iteration\")\n",
    "plt.ylabel(\"Cost\")\n",
    "plt.show()\n"
   ]
  }
 ],
 "metadata": {
  "kernelspec": {
   "display_name": "py_env",
   "language": "python",
   "name": "python3"
  },
  "language_info": {
   "codemirror_mode": {
    "name": "ipython",
    "version": 3
   },
   "file_extension": ".py",
   "mimetype": "text/x-python",
   "name": "python",
   "nbconvert_exporter": "python",
   "pygments_lexer": "ipython3",
   "version": "3.12.6"
  }
 },
 "nbformat": 4,
 "nbformat_minor": 2
}
